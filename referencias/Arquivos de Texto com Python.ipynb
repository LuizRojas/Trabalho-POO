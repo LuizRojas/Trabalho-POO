{
 "cells": [
  {
   "cell_type": "markdown",
   "id": "441899aa",
   "metadata": {},
   "source": [
    "# Python e Arquivos de texto (.txt)\n",
    "\n",
    "- Use sempre a estrutura With"
   ]
  },
  {
   "cell_type": "markdown",
   "id": "2d20f181",
   "metadata": {},
   "source": [
    "### Formas de abrir um arquivo de texto"
   ]
  },
  {
   "cell_type": "markdown",
   "id": "b1f4e1e6",
   "metadata": {},
   "source": [
    "- \"r\" -> read -> ler"
   ]
  },
  {
   "cell_type": "code",
   "execution_count": 3,
   "id": "53008492",
   "metadata": {},
   "outputs": [
    {
     "name": "stdout",
     "output_type": "stream",
     "text": [
      "['Teste!\\n', 'Linha dois\\n', 'Linha três']\n"
     ]
    }
   ],
   "source": [
    "with open('teste.txt', 'r', encoding='utf-8') as arquivo:\n",
    "    palavra = arquivo.readlines()\n",
    "print(palavra)"
   ]
  },
  {
   "cell_type": "markdown",
   "id": "53f75e99",
   "metadata": {},
   "source": [
    "- \"w\" -> write -> escrever"
   ]
  },
  {
   "cell_type": "code",
   "execution_count": 2,
   "id": "0bf26c38",
   "metadata": {},
   "outputs": [],
   "source": [
    "with open('teste.txt', 'w', encoding='utf-8') as arquivo:\n",
    "    mensagem = arquivo.write('Teste!\\nLinha dois\\nLinha três')"
   ]
  },
  {
   "cell_type": "markdown",
   "id": "14fcf35d",
   "metadata": {},
   "source": [
    "- \"a\" -> append -> adicionar"
   ]
  },
  {
   "cell_type": "code",
   "execution_count": null,
   "id": "1e6d2b3f",
   "metadata": {},
   "outputs": [],
   "source": []
  }
 ],
 "metadata": {
  "interpreter": {
   "hash": "9f65eb5cda6c18005355bd30c1075974503910742d6f6f95d299f457b97bd26e"
  },
  "kernelspec": {
   "display_name": "Python 3.7.6 32-bit",
   "name": "python3"
  },
  "language_info": {
   "codemirror_mode": {
    "name": "ipython",
    "version": 3
   },
   "file_extension": ".py",
   "mimetype": "text/x-python",
   "name": "python",
   "nbconvert_exporter": "python",
   "pygments_lexer": "ipython3",
   "version": "3.7.6"
  }
 },
 "nbformat": 4,
 "nbformat_minor": 5
}
